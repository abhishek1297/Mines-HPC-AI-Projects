{
 "cells": [
  {
   "cell_type": "code",
   "execution_count": 1,
   "id": "9a431c5d",
   "metadata": {},
   "outputs": [],
   "source": [
    "import numpy as np\n",
    "import pandas as pd\n",
    "\n",
    "TRAIN_DIR = \"../project_dataset/partial_dataset_train\""
   ]
  },
  {
   "cell_type": "markdown",
   "id": "19d24cf4",
   "metadata": {},
   "source": [
    "## Grouping"
   ]
  },
  {
   "cell_type": "code",
   "execution_count": 3,
   "id": "a7f64639",
   "metadata": {},
   "outputs": [],
   "source": [
    "if False:\n",
    "    complete_labels_df = pd.read_csv(f\"{TRAIN_DIR}/complete_labels.csv\", index_col=0)\n",
    "    complete_labels_df = complete_labels_df[:30000]\n",
    "    complete_labels_df[\"group_id\"] = complete_labels_df.astype(bool).groupby(complete_labels_df.columns.tolist(), sort=False).ngroup() + 1\n",
    "    min_ = complete_labels_df[\"group_id\"].min()\n",
    "    max_ = complete_labels_df[\"group_id\"].max()\n",
    "\n",
    "    def f(r):\n",
    "        if r[\"label\"] == False:\n",
    "            r[\"group_id\"] = np.random.randint(min_, max_, size=1)[0]\n",
    "        return r[\"group_id\"]\n",
    "\n",
    "    complete_labels_df[\"group_id\"] = complete_labels_df[[\"label\", \"group_id\"]].apply(f, axis=1)\n",
    "    complete_labels_df[\"group_id\"].value_counts()"
   ]
  },
  {
   "cell_type": "code",
   "execution_count": 53,
   "id": "d3edae54-82be-406d-a688-15501e17bfd6",
   "metadata": {},
   "outputs": [
    {
     "data": {
      "text/plain": [
       "<matplotlib.image.AxesImage at 0x1f872acf850>"
      ]
     },
     "execution_count": 53,
     "metadata": {},
     "output_type": "execute_result"
    },
    {
     "data": {
      "image/png": "[encoded data removed]",
      "text/plain": [
       "<Figure size 640x480 with 1 Axes>"
      ]
     },
     "metadata": {},
     "output_type": "display_data"
    }
   ],
   "source": [
    "# plt.spy(complete_labels_df.iloc[15000:15200,0:500])"
   ]
  },
  {
   "cell_type": "code",
   "execution_count": 1,
   "id": "200f338e-f2ad-4da1-80cc-ed41f2353125",
   "metadata": {},
   "outputs": [],
   "source": [
    "from sklearn.decomposition import PCA\n",
    "from sklearn.feature_selection import SelectKBest, SelectPercentile"
   ]
  },
  {
   "cell_type": "code",
   "execution_count": null,
   "id": "16de5abc-3210-4a62-b0c8-8a929ee79d78",
   "metadata": {},
   "outputs": [],
   "source": [
    "X_ = pd.read_csv(f\"{TRAIN_DIR}/features.csv\", index_col=0)\n"
   ]
  },
  {
   "cell_type": "code",
   "execution_count": 6,
   "id": "c4bba549-6b71-4e33-952b-08254152e9d8",
   "metadata": {},
   "outputs": [],
   "source": [
    "X = X_[:30_000]"
   ]
  },
  {
   "cell_type": "code",
   "execution_count": 7,
   "id": "fe054fd6-c8ac-49c0-a2d1-7d3a3ed490a2",
   "metadata": {},
   "outputs": [],
   "source": [
    "del X_"
   ]
  },
  {
   "cell_type": "code",
   "execution_count": null,
   "id": "a3b0db58-bf2a-4b11-87cc-11911004f641",
   "metadata": {},
   "outputs": [],
   "source": [
    "from sklearn.pipeline import Pipeline\n",
    "\n",
    "pipe = Pipeline(steps=[\n",
    "        (\"scaler\", StandardScaler()),\n",
    "        (\"lr_dim_reduce\", PCA(n_components=n_components)),\n",
    ")"
   ]
  }
 ],
 "metadata": {
  "kernelspec": {
   "display_name": "Python 3 (ipykernel)",
   "language": "python",
   "name": "python3"
  },
  "language_info": {
   "codemirror_mode": {
    "name": "ipython",
    "version": 3
   },
   "file_extension": ".py",
   "mimetype": "text/x-python",
   "name": "python",
   "nbconvert_exporter": "python",
   "pygments_lexer": "ipython3",
   "version": "3.8.15"
  }
 },
 "nbformat": 4,
 "nbformat_minor": 5
}
