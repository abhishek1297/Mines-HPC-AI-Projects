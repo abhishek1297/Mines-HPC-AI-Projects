{
 "cells": [
  {
   "cell_type": "code",
   "execution_count": 1,
   "id": "da350838-0cdd-43c0-b7bb-3e9d5f07a789",
   "metadata": {},
   "outputs": [
    {
     "data": {
      "text/plain": [
       "'1.1.3'"
      ]
     },
     "execution_count": 1,
     "metadata": {},
     "output_type": "execute_result"
    }
   ],
   "source": [
    "import sklearn\n",
    "sklearn.__version__"
   ]
  },
  {
   "cell_type": "code",
   "execution_count": 2,
   "id": "d4a009df",
   "metadata": {},
   "outputs": [],
   "source": [
    "import warnings\n",
    "warnings.filterwarnings('ignore')"
   ]
  },
  {
   "cell_type": "code",
   "execution_count": 3,
   "id": "6f348319",
   "metadata": {},
   "outputs": [],
   "source": [
    "import numpy as np\n",
    "import pandas as pd\n",
    "\n",
    "from sklearn.pipeline import Pipeline\n",
    "from sklearn.preprocessing import StandardScaler, MinMaxScaler, RobustScaler, PowerTransformer, LabelEncoder\n",
    "from sklearn.decomposition import PCA\n",
    "from sklearn.feature_selection import SelectKBest, SelectPercentile\n",
    "from sklearn.ensemble import RandomForestClassifier, ExtraTreesClassifier, GradientBoostingClassifier, HistGradientBoostingClassifier, AdaBoostClassifier\n",
    "from sklearn.tree import DecisionTreeClassifier\n",
    "from sklearn.svm import SVC\n",
    "from sklearn.linear_model import LinearRegression, LogisticRegression\n",
    "from sklearn.model_selection import StratifiedGroupKFold, GridSearchCV\n",
    "from sklearn.model_selection import train_test_split"
   ]
  },
  {
   "cell_type": "code",
   "execution_count": 4,
   "id": "4445ebe2",
   "metadata": {},
   "outputs": [
    {
     "name": "stdout",
     "output_type": "stream",
     "text": [
      "CPU times: total: 1min 35s\n",
      "Wall time: 1min 35s\n"
     ]
    }
   ],
   "source": [
    "%%time\n",
    "\n",
    "DATA_DIR = \"../project_dataset\"\n",
    "TRAIN_DIR = f\"{DATA_DIR}/partial_dataset_train\"\n",
    "\n",
    "# first_n = -1\n",
    "# first_n = 30_000\n",
    "first_n = 250_000\n",
    "\n",
    "X_ = pd.read_csv(f\"{TRAIN_DIR}/features.csv\", index_col=0)\n",
    "y_ = pd.read_csv(f\"{TRAIN_DIR}/labels.csv\", index_col=0)\n",
    "cl_df_ = pd.read_csv(f\"{TRAIN_DIR}/complete_labels.csv\", index_col=0)\n",
    "\n",
    "if first_n > 0:\n",
    "    X = X_[:first_n]\n",
    "    y = y_[:first_n]\n",
    "    cl_df = cl_df_[:first_n]\n",
    "else:\n",
    "    X = X_\n",
    "    y = y_\n",
    "    cl_df = cl_df_"
   ]
  },
  {
   "cell_type": "code",
   "execution_count": 5,
   "id": "c6b074a1",
   "metadata": {},
   "outputs": [],
   "source": [
    "if \"group_id\" in cl_df:\n",
    "    cl_df.drop(\"group_id\", axis=1)\n",
    "\n",
    "cl_df[\"group_id\"] = cl_df.astype(bool).groupby(cl_df.columns.tolist(), sort=False).ngroup() + 1\n",
    "min_ = cl_df[\"group_id\"].min()\n",
    "max_ = cl_df[\"group_id\"].max()\n",
    "\n",
    "def f(r):\n",
    "    if r[\"label\"] == False:\n",
    "        r[\"group_id\"] = np.random.randint(min_, max_, size=1)[0]\n",
    "    return r[\"group_id\"]\n",
    "\n",
    "group_ids = cl_df[[\"label\", \"group_id\"]].apply(f, axis=1)"
   ]
  },
  {
   "cell_type": "code",
   "execution_count": 6,
   "id": "b0edc83b",
   "metadata": {},
   "outputs": [],
   "source": [
    "X = X.values#.astype(np.float32)\n",
    "y = LabelEncoder().fit_transform(y.values.squeeze())#.astype(np.uint8)\n",
    "groups = group_ids.to_numpy()#.astype(np.uint16)\n",
    "\n",
    "del X_, y_, cl_df, cl_df_"
   ]
  },
  {
   "cell_type": "markdown",
   "id": "2d69beef-13c5-44bb-8527-3573f3717375",
   "metadata": {},
   "source": [
    "## Undersampling"
   ]
  },
  {
   "cell_type": "code",
   "execution_count": 7,
   "id": "bc3f406a-0b9c-43aa-b101-763ae6929567",
   "metadata": {},
   "outputs": [],
   "source": [
    "from imblearn.under_sampling import *\n",
    "from collections import Counter"
   ]
  },
  {
   "cell_type": "code",
   "execution_count": 8,
   "id": "c089fc66-b52b-461d-a067-c62820563d54",
   "metadata": {},
   "outputs": [],
   "source": [
    "# undersample = EditedNearestNeighbours(sampling_strategy=\"majority\",\n",
    "#                                       n_neighbors=11,\n",
    "#                                       kind_sel=\"all\",\n",
    "#                                       n_jobs=-1) # 7 < k < 11\n",
    "\n",
    "undersample = OneSidedSelection(sampling_strategy=\"majority\", n_neighbors=3, n_seeds_S=100, n_jobs=-1) # 3 < k < 11"
   ]
  },
  {
   "cell_type": "code",
   "execution_count": 9,
   "id": "271da0ac-b017-4ac4-a75b-8d4c31c2c511",
   "metadata": {},
   "outputs": [
    {
     "name": "stdout",
     "output_type": "stream",
     "text": [
      "Original dataset shape Counter({0: 246238, 1: 3762})\n",
      "Resampled dataset shape Counter({0: 239656, 1: 3762})\n",
      "CPU times: total: 2h 22min 1s\n",
      "Wall time: 8min 2s\n"
     ]
    }
   ],
   "source": [
    "%%time\n",
    "# undersample = RepeatedEditedNearestNeighbours(sampling_strategy=\"majority\", n_jobs=-1) #not good enough\n",
    "# undersample = NeighbourhoodCleaningRule(sampling_strategy=\"majority\", n_jobs=-1, threshold_cleaning=0.2)\n",
    "# undersample = TomekLinks(sampling_strategy=\"majority\", n_jobs=-1) # not much reduction\n",
    "\n",
    "# undersample = NearMiss(sampling_strategy=1/35, n_jobs=-1) # ratio of 1/25 to 1/50 works well on valid set\n",
    "X_res, y_res = undersample.fit_resample(X, y)\n",
    "print('Original dataset shape %s' % Counter(y))\n",
    "print('Resampled dataset shape %s' % Counter(y_res))"
   ]
  },
  {
   "cell_type": "code",
   "execution_count": 10,
   "id": "68833452-9559-40e0-8971-e3a89fbefde1",
   "metadata": {},
   "outputs": [],
   "source": [
    "X = X_res\n",
    "y = y_res\n",
    "groups = groups[undersample.sample_indices_]\n",
    "\n",
    "del X_res, y_res"
   ]
  },
  {
   "cell_type": "markdown",
   "id": "6ff74e5d",
   "metadata": {},
   "source": [
    "## Getting groups for each protein in the dataset for KFold"
   ]
  },
  {
   "cell_type": "markdown",
   "id": "b0c4322a",
   "metadata": {},
   "source": [
    "## Define K fold"
   ]
  },
  {
   "cell_type": "code",
   "execution_count": 11,
   "id": "ecb4ecd6",
   "metadata": {},
   "outputs": [],
   "source": [
    "# n_splits = 5\n",
    "# cv = StratifiedGroupKFold(n_splits=n_splits, shuffle=True)"
   ]
  },
  {
   "cell_type": "markdown",
   "id": "7705fc6b",
   "metadata": {},
   "source": [
    "## Building pipes for each ML algorithm\n",
    "We'll be using grid search. The following code was just a trial on how to use pipes in sklearn."
   ]
  },
  {
   "cell_type": "markdown",
   "id": "a455a859",
   "metadata": {},
   "source": [
    "```python\n",
    "n_components = 10\n",
    "\n",
    "pipe_lr = Pipeline(steps=[\n",
    "        (\"lr_scaler\", StandardScaler()),\n",
    "        (\"lr_dim_reduce\", PCA(n_components=n_components)),\n",
    "        (\"lr_clf\", LinearRegression(n_jobs=-1))]\n",
    ")\n",
    "\n",
    "pipe_rf = Pipeline(steps=[\n",
    "        (\"rf_scaler\", StandardScaler()),\n",
    "        (\"rf_dim_reduce\", PCA(n_components=n_components)),\n",
    "        (\"rf_clf\", RandomForestClassifier(n_jobs=-1))]\n",
    ")\n",
    "\n",
    "pipe_svm = Pipeline(steps=[\n",
    "        (\"svm_scaler\", StandardScaler()),\n",
    "        (\"svm_dim_reduce\", PCA(n_components=n_components)),\n",
    "        (\"svm_clf\", SVC())]\n",
    ")\n",
    "\n",
    "pipelines = {\n",
    "    \"Linear Regression\": pipe_lr,\n",
    "    \"Random Forest\": pipe_rf,\n",
    "    \"Support Vector Machine\": pipe_svm,   \n",
    "}\n",
    "\n",
    "scores = {key: [] for key in pipelines.keys()}\n",
    "\n",
    "for train_id, test_id in cv.split(X, y, groups):\n",
    "\n",
    "    X_train = X[train_id]\n",
    "    y_train = y[train_id]\n",
    "    X_test = X[test_id]\n",
    "    y_test = y[test_id]\n",
    "\n",
    "    for clf_name, pipe in pipelines.items():\n",
    "\n",
    "        pipe.fit(X_train, y_train)\n",
    "        s = pipe.score(X_test, y_test)\n",
    "        scores[clf_name].append(round(s, 3))\n",
    "\n",
    "    print(\"#\", end=\"\")\n",
    "print(\"\\n\")\n",
    "\n",
    "pd.DataFrame(scores)\n",
    "```"
   ]
  },
  {
   "cell_type": "markdown",
   "id": "d898703c",
   "metadata": {},
   "source": [
    "## Combining Cross validation and all the pipes in GridSearchCV\n",
    "This takes time. ALOT OF TIME! So, only choose the right algorithms and parameters for our problem"
   ]
  },
  {
   "cell_type": "code",
   "execution_count": 12,
   "id": "e07adab8-e89c-4959-9fa1-7b540b403a70",
   "metadata": {},
   "outputs": [],
   "source": [
    "def get_metrics(y_true, y_pred):\n",
    "    from sklearn.metrics import balanced_accuracy_score, precision_score, roc_auc_score, f1_score\n",
    "    return {\n",
    "        \"b_acc\": round(balanced_accuracy_score(y_true, y_pred), 2),\n",
    "        \"prec\": round(precision_score(y_true, y_pred), 2),\n",
    "        \"f1\": round(f1_score(y_true, y_pred), 2),\n",
    "        \"roc\": round(roc_auc_score(y_true, y_pred), 2)\n",
    "    }"
   ]
  },
  {
   "cell_type": "code",
   "execution_count": 13,
   "id": "91386743",
   "metadata": {},
   "outputs": [],
   "source": [
    "    # # Logistic Regression\n",
    "    # {\n",
    "    #     \"dim_reduce__n_components\": np.arange(5, 16, 5),\n",
    "    #     \"clf\": [LogisticRegression()],\n",
    "    #     \"clf__penalty\": [\"l2\"],\n",
    "    #     \"clf__C\": np.logspace(0, 4, 5),\n",
    "    #     \"clf__solver\": [\"newton-cg\", \"saga\", \"sag\", \"liblinear\"]\n",
    "    # },\n",
    "    # # Random Forests\n",
    "    # {\n",
    "    #     \"scaler\": [RobustScaler()],\n",
    "    #     \"scaler__unit_variance\": [True, False],\n",
    "    #     \"dim_reduce\": [SelectPercentile()],\n",
    "    #     \"dim_reduce__percentile\": np.arange(10, 51, 10),\n",
    "    #     \"clf\": [RandomForestClassifier()],\n",
    "    #     \"clf__n_estimators\": np.arange(100, 201, 50),\n",
    "    #     \"clf__criterion\": [\"gini\", \"entropy\", \"log_loss\"],\n",
    "    #     \"clf__max_features\": [\"sqrt\", \"log2\"],\n",
    "    #     \"clf__class_weight\": [\"balanced\", \"balanced_subsample\"]\n",
    "    # },\n",
    "    # # Support Vector Machine\n",
    "    # {\n",
    "    #     \"pca__n_components\": [2, 20],\n",
    "    #     \"clf\": [SVC()],\n",
    "    #     \"clf__C\": np.logspace(0, 4, 3),\n",
    "    #     \"clf__kernel\": [\"poly\"],\n",
    "    #     \"clf__degree\": [3],\n",
    "    #     \"clf__class_weight\": [None, \"balanced\"],\n",
    "    # }\n",
    "       # \"clf__base_estimator\": [#LogisticRegression(class_weight=\"balanced\",\n",
    "        #                                            #max_iter=1500, C=0.18, solver=\"saga\")],\n",
    "                                # SVC(class_weight=\"balanced\", kernel=\"poly\")],\n",
    "        # \"clf__n_estimators\": [30],\n",
    "        # \"clf__learning_rate\": [0.1, 1],\n",
    "        # \"clf__algorithm\": [\"SAMME\", \"SAMME.R\"]\n",
    "\n",
    "default_pipe = Pipeline(steps=[\n",
    "        (\"scaler\", PowerTransformer()),\n",
    "        (\"dim_reduce\", PCA(n_components=20)),\n",
    "        (\"clf\", LogisticRegression(class_weight=\"balanced\", max_iter=2500, C=0.18, solver=\"saga\"))\n",
    "])\n",
    "\n",
    "param_grid = [\n",
    "    {\n",
    "        \"clf\": [LogisticRegression(class_weight=\"balanced\", max_iter=1500, C=0.18, solver=\"saga\")],\n",
    "    }\n",
    "]\n",
    "\n"
   ]
  },
  {
   "cell_type": "code",
   "execution_count": 14,
   "id": "7731d0e8",
   "metadata": {},
   "outputs": [
    {
     "name": "stdout",
     "output_type": "stream",
     "text": [
      "Fitting 5 folds for each of 1 candidates, totalling 5 fits\n",
      "CPU times: total: 4min 27s\n",
      "Wall time: 9min 9s\n"
     ]
    }
   ],
   "source": [
    "%%time\n",
    "run_gridcv = True\n",
    "n_splits = 5\n",
    "cv = StratifiedGroupKFold(n_splits=n_splits, shuffle=True)\n",
    "\n",
    "\n",
    "if run_gridcv:\n",
    "    grid_search = GridSearchCV(estimator=default_pipe,\n",
    "                               param_grid=param_grid,\n",
    "                               cv=cv.split(X, y, groups),\n",
    "                               scoring=[\"balanced_accuracy\", \"precision\", \"f1\", \"roc_auc\"],\n",
    "                               refit=\"roc_auc\",\n",
    "                               error_score=\"raise\",\n",
    "                               n_jobs=-1,\n",
    "                               verbose=4,\n",
    "                    )\n",
    "    grid_clf = grid_search.fit(X, y)\n",
    "else:\n",
    "    best_bacc = 0\n",
    "    best_roc = 0\n",
    "    best_model = None\n",
    "    mean = {\"b_acc\": 0, \"prec\": 0, \"f1\": 0, \"roc\": 0}\n",
    "    from copy import deepcopy\n",
    "    for i, (train_id, test_id) in enumerate(cv.split(X, y, groups)):\n",
    "\n",
    "        X_train, X_test = X[train_id], X[test_id]\n",
    "        y_train, y_test = y[train_id], y[test_id]\n",
    "        \n",
    "        model = deepcopy(default_pipe)\n",
    "        model.fit(X_train, y_train)\n",
    "        y_pred = model.predict(X_test)\n",
    "        \n",
    "        tmp = get_metrics(y_test, y_pred)\n",
    "        \n",
    "        print(i+1, end=\"\")\n",
    "        for k, v in tmp.items():\n",
    "            mean[k] += v\n",
    "            print(f\"\\t{k}: {round(v, 3)}\", end=\"\")\n",
    "        print()\n",
    "        \n",
    "        if best_roc < tmp[\"roc\"]:\n",
    "            best_bacc = tmp[\"b_acc\"]\n",
    "            best_roc = tmp[\"roc\"]\n",
    "            best_model = model\n",
    "        else:\n",
    "            del model\n",
    "    print(\"mean\", end=\"\")\n",
    "    for k, v in mean.items():\n",
    "        print(f\"\\t{k}: {round(v/n_splits, 3)}\", end=\"\")\n",
    "    print()\n",
    "    #refit the best model on the entire dataset\n",
    "    best_model.fit(X, y)"
   ]
  },
  {
   "cell_type": "code",
   "execution_count": 15,
   "id": "2e3664dc-048f-47d3-af19-f50045c220ec",
   "metadata": {},
   "outputs": [
    {
     "data": {
      "text/html": [
       "<style>#sk-container-id-1 {color: black;background-color: white;}#sk-container-id-1 pre{padding: 0;}#sk-container-id-1 div.sk-toggleable {background-color: white;}#sk-container-id-1 label.sk-toggleable__label {cursor: pointer;display: block;width: 100%;margin-bottom: 0;padding: 0.3em;box-sizing: border-box;text-align: center;}#sk-container-id-1 label.sk-toggleable__label-arrow:before {content: \"▸\";float: left;margin-right: 0.25em;color: #696969;}#sk-container-id-1 label.sk-toggleable__label-arrow:hover:before {color: black;}#sk-container-id-1 div.sk-estimator:hover label.sk-toggleable__label-arrow:before {color: black;}#sk-container-id-1 div.sk-toggleable__content {max-height: 0;max-width: 0;overflow: hidden;text-align: left;background-color: #f0f8ff;}#sk-container-id-1 div.sk-toggleable__content pre {margin: 0.2em;color: black;border-radius: 0.25em;background-color: #f0f8ff;}#sk-container-id-1 input.sk-toggleable__control:checked~div.sk-toggleable__content {max-height: 200px;max-width: 100%;overflow: auto;}#sk-container-id-1 input.sk-toggleable__control:checked~label.sk-toggleable__label-arrow:before {content: \"▾\";}#sk-container-id-1 div.sk-estimator input.sk-toggleable__control:checked~label.sk-toggleable__label {background-color: #d4ebff;}#sk-container-id-1 div.sk-label input.sk-toggleable__control:checked~label.sk-toggleable__label {background-color: #d4ebff;}#sk-container-id-1 input.sk-hidden--visually {border: 0;clip: rect(1px 1px 1px 1px);clip: rect(1px, 1px, 1px, 1px);height: 1px;margin: -1px;overflow: hidden;padding: 0;position: absolute;width: 1px;}#sk-container-id-1 div.sk-estimator {font-family: monospace;background-color: #f0f8ff;border: 1px dotted black;border-radius: 0.25em;box-sizing: border-box;margin-bottom: 0.5em;}#sk-container-id-1 div.sk-estimator:hover {background-color: #d4ebff;}#sk-container-id-1 div.sk-parallel-item::after {content: \"\";width: 100%;border-bottom: 1px solid gray;flex-grow: 1;}#sk-container-id-1 div.sk-label:hover label.sk-toggleable__label {background-color: #d4ebff;}#sk-container-id-1 div.sk-serial::before {content: \"\";position: absolute;border-left: 1px solid gray;box-sizing: border-box;top: 0;bottom: 0;left: 50%;z-index: 0;}#sk-container-id-1 div.sk-serial {display: flex;flex-direction: column;align-items: center;background-color: white;padding-right: 0.2em;padding-left: 0.2em;position: relative;}#sk-container-id-1 div.sk-item {position: relative;z-index: 1;}#sk-container-id-1 div.sk-parallel {display: flex;align-items: stretch;justify-content: center;background-color: white;position: relative;}#sk-container-id-1 div.sk-item::before, #sk-container-id-1 div.sk-parallel-item::before {content: \"\";position: absolute;border-left: 1px solid gray;box-sizing: border-box;top: 0;bottom: 0;left: 50%;z-index: -1;}#sk-container-id-1 div.sk-parallel-item {display: flex;flex-direction: column;z-index: 1;position: relative;background-color: white;}#sk-container-id-1 div.sk-parallel-item:first-child::after {align-self: flex-end;width: 50%;}#sk-container-id-1 div.sk-parallel-item:last-child::after {align-self: flex-start;width: 50%;}#sk-container-id-1 div.sk-parallel-item:only-child::after {width: 0;}#sk-container-id-1 div.sk-dashed-wrapped {border: 1px dashed gray;margin: 0 0.4em 0.5em 0.4em;box-sizing: border-box;padding-bottom: 0.4em;background-color: white;}#sk-container-id-1 div.sk-label label {font-family: monospace;font-weight: bold;display: inline-block;line-height: 1.2em;}#sk-container-id-1 div.sk-label-container {text-align: center;}#sk-container-id-1 div.sk-container {/* jupyter's `normalize.less` sets `[hidden] { display: none; }` but bootstrap.min.css set `[hidden] { display: none !important; }` so we also need the `!important` here to be able to override the default hidden behavior on the sphinx rendered scikit-learn.org. See: https://github.com/scikit-learn/scikit-learn/issues/21755 */display: inline-block !important;position: relative;}#sk-container-id-1 div.sk-text-repr-fallback {display: none;}</style><div id=\"sk-container-id-1\" class=\"sk-top-container\"><div class=\"sk-text-repr-fallback\"><pre>Pipeline(steps=[(&#x27;scaler&#x27;, PowerTransformer()),\n",
       "                (&#x27;dim_reduce&#x27;, PCA(n_components=20)),\n",
       "                (&#x27;clf&#x27;,\n",
       "                 LogisticRegression(C=0.18, class_weight=&#x27;balanced&#x27;,\n",
       "                                    max_iter=1500, solver=&#x27;saga&#x27;))])</pre><b>In a Jupyter environment, please rerun this cell to show the HTML representation or trust the notebook. <br />On GitHub, the HTML representation is unable to render, please try loading this page with nbviewer.org.</b></div><div class=\"sk-container\" hidden><div class=\"sk-item sk-dashed-wrapped\"><div class=\"sk-label-container\"><div class=\"sk-label sk-toggleable\"><input class=\"sk-toggleable__control sk-hidden--visually\" id=\"sk-estimator-id-1\" type=\"checkbox\" ><label for=\"sk-estimator-id-1\" class=\"sk-toggleable__label sk-toggleable__label-arrow\">Pipeline</label><div class=\"sk-toggleable__content\"><pre>Pipeline(steps=[(&#x27;scaler&#x27;, PowerTransformer()),\n",
       "                (&#x27;dim_reduce&#x27;, PCA(n_components=20)),\n",
       "                (&#x27;clf&#x27;,\n",
       "                 LogisticRegression(C=0.18, class_weight=&#x27;balanced&#x27;,\n",
       "                                    max_iter=1500, solver=&#x27;saga&#x27;))])</pre></div></div></div><div class=\"sk-serial\"><div class=\"sk-item\"><div class=\"sk-estimator sk-toggleable\"><input class=\"sk-toggleable__control sk-hidden--visually\" id=\"sk-estimator-id-2\" type=\"checkbox\" ><label for=\"sk-estimator-id-2\" class=\"sk-toggleable__label sk-toggleable__label-arrow\">PowerTransformer</label><div class=\"sk-toggleable__content\"><pre>PowerTransformer()</pre></div></div></div><div class=\"sk-item\"><div class=\"sk-estimator sk-toggleable\"><input class=\"sk-toggleable__control sk-hidden--visually\" id=\"sk-estimator-id-3\" type=\"checkbox\" ><label for=\"sk-estimator-id-3\" class=\"sk-toggleable__label sk-toggleable__label-arrow\">PCA</label><div class=\"sk-toggleable__content\"><pre>PCA(n_components=20)</pre></div></div></div><div class=\"sk-item\"><div class=\"sk-estimator sk-toggleable\"><input class=\"sk-toggleable__control sk-hidden--visually\" id=\"sk-estimator-id-4\" type=\"checkbox\" ><label for=\"sk-estimator-id-4\" class=\"sk-toggleable__label sk-toggleable__label-arrow\">LogisticRegression</label><div class=\"sk-toggleable__content\"><pre>LogisticRegression(C=0.18, class_weight=&#x27;balanced&#x27;, max_iter=1500,\n",
       "                   solver=&#x27;saga&#x27;)</pre></div></div></div></div></div></div></div>"
      ],
      "text/plain": [
       "Pipeline(steps=[('scaler', PowerTransformer()),\n",
       "                ('dim_reduce', PCA(n_components=20)),\n",
       "                ('clf',\n",
       "                 LogisticRegression(C=0.18, class_weight='balanced',\n",
       "                                    max_iter=1500, solver='saga'))])"
      ]
     },
     "execution_count": 15,
     "metadata": {},
     "output_type": "execute_result"
    }
   ],
   "source": [
    "grid_clf.best_estimator_"
   ]
  },
  {
   "cell_type": "code",
   "execution_count": 16,
   "id": "6dc4ce7e-4664-495e-9621-6d5c9e10022e",
   "metadata": {},
   "outputs": [
    {
     "data": {
      "text/html": [
       "<div>\n",
       "<style scoped>\n",
       "    .dataframe tbody tr th:only-of-type {\n",
       "        vertical-align: middle;\n",
       "    }\n",
       "\n",
       "    .dataframe tbody tr th {\n",
       "        vertical-align: top;\n",
       "    }\n",
       "\n",
       "    .dataframe thead th {\n",
       "        text-align: right;\n",
       "    }\n",
       "</style>\n",
       "<table border=\"1\" class=\"dataframe\">\n",
       "  <thead>\n",
       "    <tr style=\"text-align: right;\">\n",
       "      <th></th>\n",
       "      <th>rank_test_balanced_accuracy</th>\n",
       "      <th>mean_test_balanced_accuracy</th>\n",
       "      <th>mean_test_f1</th>\n",
       "      <th>mean_test_roc_auc</th>\n",
       "    </tr>\n",
       "  </thead>\n",
       "  <tbody>\n",
       "    <tr>\n",
       "      <th>0</th>\n",
       "      <td>1</td>\n",
       "      <td>0.687942</td>\n",
       "      <td>0.069266</td>\n",
       "      <td>0.744352</td>\n",
       "    </tr>\n",
       "  </tbody>\n",
       "</table>\n",
       "</div>"
      ],
      "text/plain": [
       "   rank_test_balanced_accuracy  mean_test_balanced_accuracy  mean_test_f1  \\\n",
       "0                            1                     0.687942      0.069266   \n",
       "\n",
       "   mean_test_roc_auc  \n",
       "0           0.744352  "
      ]
     },
     "execution_count": 16,
     "metadata": {},
     "output_type": "execute_result"
    }
   ],
   "source": [
    "if run_gridcv:\n",
    "    tmp = pd.DataFrame(grid_clf.cv_results_)\n",
    "tmp[[\"rank_test_balanced_accuracy\", \"mean_test_balanced_accuracy\", \"mean_test_f1\", \"mean_test_roc_auc\"]].sort_values([\"rank_test_balanced_accuracy\"])"
   ]
  },
  {
   "cell_type": "code",
   "execution_count": 17,
   "id": "854649cd",
   "metadata": {},
   "outputs": [],
   "source": [
    "import pickle\n",
    "if run_gridcv:\n",
    "    acc = round(max(grid_clf.cv_results_[\"mean_test_balanced_accuracy\"]), 2)\n",
    "    roc = round(max(grid_clf.cv_results_[\"mean_test_roc_auc\"]), 2)\n",
    "    usample_name = str(undersample.__class__).split(\".\")[-1][:-2]\n",
    "    algo_name = str(grid_clf.best_estimator_.steps[2][1].__class__).split(\".\")[-1][:-2]\n",
    "    filename = f\"../models/{usample_name}_best_model_{first_n}_{algo_name}_{acc}_{roc}.pkl\"\n",
    "    pickle.dump(grid_clf.best_estimator_, open(filename, 'wb'))\n",
    "else:\n",
    "    acc = round(mean[\"b_acc\"]/n_splits, 2)\n",
    "    roc = round(mean[\"roc\"]/n_splits, 2)\n",
    "    algo_name = str(best_model.steps[2][1].__class__).split(\".\")[-1][:-2]\n",
    "    filename = f\"../models/best_model_{first_n}_{algo_name}_{acc}_{roc}.pkl\"\n",
    "    pickle.dump(best_model, open(filename, 'wb'))\n",
    "    best_model"
   ]
  },
  {
   "cell_type": "code",
   "execution_count": null,
   "id": "d966f427-46ab-4768-86a7-2eb4a022a672",
   "metadata": {},
   "outputs": [],
   "source": []
  }
 ],
 "metadata": {
  "kernelspec": {
   "display_name": "Python 3 (ipykernel)",
   "language": "python",
   "name": "python3"
  },
  "language_info": {
   "codemirror_mode": {
    "name": "ipython",
    "version": 3
   },
   "file_extension": ".py",
   "mimetype": "text/x-python",
   "name": "python",
   "nbconvert_exporter": "python",
   "pygments_lexer": "ipython3",
   "version": "3.8.15"
  }
 },
 "nbformat": 4,
 "nbformat_minor": 5
}
